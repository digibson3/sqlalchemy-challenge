{
 "cells": [
  {
   "cell_type": "code",
   "execution_count": 1,
   "metadata": {},
   "outputs": [],
   "source": [
    "%matplotlib inline\n",
    "# Explanation: \n",
    "# This is a magic command in Jupyter Notebook\n",
    "# It tells Jupyter to display matplotlib plots directly in the notebook instead o opening a new window\n",
    "# It is used when working with matplotlib, a popular Python plotting library.\n",
    "\n",
    "# How it works:\n",
    "# Normally, when using matplotlib outside Jupyter, you would need a plt.sho() to display plots.\n",
    "# With Matplotlib inline, the plots are rendered automatically in the notebook.\n",
    "\n",
    "from matplotlib import style\n",
    "# Explanation:\n",
    "# This imports the style module from matplotlib easily.\n",
    "# The style module is used to change the apperance of plots.\n",
    "# It allows you to apply predefined styles to make plots visually appealing.\n",
    "\n",
    "style.use('fivethirtyeight')\n",
    "# Explanation:\n",
    "# This sets the style of matplotlib plots to 'fivethirtyeight'.\n",
    "# \"fivethirtyeight\"is inspired by the visual style used in the website fivethirtyeight.com.\n",
    "# It gives plots a clean,modern look with a light gray background, bold grid lines, and a clear focus on the data.\n",
    "\n",
    "import matplotlib.pyplot as plt\n",
    "# Explanation:\n",
    "# This imports the pyplot module from matplotlib, a popular Python library for data visualiztion.\n",
    "# The alias plt is commonly used to make function calls shorter and more convenient.\n",
    "# pyplot provides a MATLAB-like interface for creating plots."
   ]
  },
  {
   "cell_type": "code",
   "execution_count": 2,
   "metadata": {},
   "outputs": [],
   "source": [
    "import numpy as np\n",
    "# Explanation:\n",
    "# This imports the NumPy library and assigns it the alias np.\n",
    "# NumPy (Numerical Python) is a fundamental package for scientific computing in Python.\n",
    "# It provides support for multi-demensional arrays, mathmatical functions, random number generation, and more.\n",
    "\n",
    "# Why use np?\n",
    "# Efficient numberical operations (faster than Python lists).\n",
    "# Convenient array manipulation.\n",
    "# Essential for data science and machine learning.\n",
    "\n",
    "import pandas as pd\n",
    "# Explanation:\n",
    "# This imports the pandas library and assigns it the alias pd.\n",
    "# Pandas is a powerful data analysis and manipulation library for Python.\n",
    "# It is bulit on NumPy and is widely used in data science, machine learning, and financial analysis.\n",
    "\n",
    "import datetime as dt\n",
    "# Explanation:\n",
    "# This imports the datatime module and assigns it the alias dt for easier use.\n",
    "# The datetime module provides functions and classes for working with dates and times in Python.\n",
    "# It allows you to get the current date/time, format dates, manipulate time differences, and more."
   ]
  },
  {
   "cell_type": "markdown",
   "metadata": {},
   "source": [
    "# Reflect Tables into SQLAlchemy ORM"
   ]
  },
  {
   "cell_type": "code",
   "execution_count": 3,
   "metadata": {},
   "outputs": [],
   "source": [
    "# Python SQL toolkit and Object Relational Mapper\n",
    "import sqlalchemy\n",
    "# Explanation:\n",
    "# This imports the sqlalchemy libray, which is a SQL toolkit and Object Relational Mapper (ORM) for Python.\n",
    "# It allows Python programs to interact with databases (such as MySQL, PostgresSQL, SQLite, and others) using SQL queries.\n",
    "# SQLAlchemy supports both raw SQL queries and ORM-based interactions, making it a flexibale choice for databse managment.\n",
    "\n",
    "# Why use SQLAlchemy?\n",
    "# Works with multiple databases(MySQL, PostgreSQL, SQLite, etc.).\n",
    "# Supports ORM(Object Relational Mapper), making it easier to interact with databases using Python objects.\n",
    "# More efficient and secure than writing raw SQL queries manually.\n",
    "# Provides connection pooling and query optimization.\n",
    "\n",
    "from sqlalchemy.ext.automap import automap_base\n",
    "# Explanation:\n",
    "# This imports auto_base from SQLAlchemy's ext.automap module.\n",
    "# automap_base is used for automatically reflecting an existing databse shema into SQLAlchemy ORM models.\n",
    "# This means you can connect to a database and dynamically map its tables to Python classes, without manually defining them.\n",
    "\n",
    "# Why use automap_base?\n",
    "# No need to manually define table structures in SQLAlchemy.\n",
    "# Automatically reflect databse schema, making it easier to work with the exsiting databases.\n",
    "# Useful for working with legacy databases or when schema changes frequently.\n",
    "\n",
    "from sqlalchemy.orm import Session\n",
    "# Explanation:\n",
    "# This imports Session from SQLAlchemy's ORM(Object-Relational Mapper).\n",
    "# Session is used to manage database transactions and queries in SQLAlchemy.\n",
    "# It allows you to interact with the database, query data, insert records, update existing data, and delete entries.\n",
    "\n",
    "# Why use Session?\n",
    "# Manage transactions: Ensures data integrity by handling commits and rollbacks.\n",
    "# Optimizes database queries: Uses a init-of-work pattern to minimize redundant queries.\n",
    "# Provides an ORM interface: Queries are executed using Python objects instead of raw SQL.\n",
    "\n",
    "from sqlalchemy import create_engine, func\n",
    "# Explanation:\n",
    "# create_engine: Creates a connection to a database.\n",
    "# func: Allows the SQL functions (e.g., COUNT(), SUM(), AVG(), etc.) to be used in queries.\n",
    "\n",
    "# create_engine – Connecting to a Database\n",
    "# It establishes a connection to a database.\n",
    "# Supports various databases (SQLite, MySQL, PostgreSQL, etc.).\n",
    "# Once the engine is created, SQLAlchemy can communicate with the database.\n",
    "\n",
    "# func – Using SQL Functions in Queries\n",
    "# func allows you to use built-in SQL functions like SUM(), COUNT(), AVG(), MAX(), etc.\n",
    "\n",
    "# Summary:\n",
    "# create_engine() connects to databases.\n",
    "# func allows using SQL functions like COUNT, AVG, SUM.\n",
    "# SQLAlchemy makes queries more Pythonic while keeping SQL's power.\n"
   ]
  },
  {
   "cell_type": "code",
   "execution_count": 4,
   "metadata": {},
   "outputs": [],
   "source": [
    "# create engine to hawaii.sqlite\n",
    "engine = create_engine(\"sqlite:///Resources/hawaii.sqlite\")\n",
    "# Explanation:\n",
    "# create_engine(): Creates a connection to a database.\n",
    "# \"sqlite:///Resources/hawaii.sqlite\": Specifies the SQLite database file (hawaii.sqlite) located inside the Resources/ folder.\n",
    "# This engine will allow SQLAlchemy to interact with the SQLite database.\n",
    "\n",
    "# How it works:\n",
    "# Checks if the database exists.\n",
    "#   If hawaii.sqlite exists, SQLAlchemy connects to it.\n",
    "#   If it doesn't exist, it will create a new SQLite file.\n",
    "# Allows executing queries:\n",
    "#   Can be used with SQLAlchemy ORM (session) or raw SQL (engine.execute()).\n"
   ]
  },
  {
   "cell_type": "code",
   "execution_count": 5,
   "metadata": {},
   "outputs": [
    {
     "name": "stderr",
     "output_type": "stream",
     "text": [
      "/var/folders/_9/wksnbqd11271yzlqtplrpbjm0000gn/T/ipykernel_55784/1383338020.py:18: SADeprecationWarning: The AutomapBase.prepare.reflect parameter is deprecated and will be removed in a future release.  Reflection is enabled when AutomapBase.prepare.autoload_with is passed.\n",
      "  Base.prepare(engine, reflect=True)\n"
     ]
    }
   ],
   "source": [
    "# reflect an existing database into a new model\n",
    "Base = automap_base()\n",
    "# Explanation:\n",
    "# Used in SQLAlchemy's Automap feature to reflect an existing database schema into Python ORM models.\n",
    "\n",
    "# automap_base():\n",
    "#  automap_base() is a function from sqlalchemy.ext.automap that creates a base class for declarative class definitions..\n",
    "#  This base class allows SQLAlchemy to automatically map tables from an existing databse without \n",
    "#  manually defining models.\n",
    "\n",
    "# Assigning to Base:\n",
    "#  The returned value from automap_base() is stored in Base, which will serve as the foundationfor \n",
    "#  automatically mapped ORM classes.\n",
    "#  Later, we can use Base.prepare(engine, reflect=True) to introspect the database schema\n",
    "#  and generate ORM models dynamically.\n",
    "\n",
    "# reflect the tables\n",
    "Base.prepare(engine, reflect=True)\n",
    "# Explanation:\n",
    "# This line is a crucial part of SQLAlchemy Automap, and it automatically maps database tables to Python ORM classes\n",
    "\n",
    "# Base.prepare(engine, reflect=True):\n",
    "#  Base is the automap base created using automap_base()\n",
    "#  .prepare(engine, reflect=True) tells SQLAlchemy to connect to the database (engine) and automatically \n",
    "#  detect the existing tables.\n",
    "#  The reflect=True argument means reflection will occur, which introspects the database \n",
    "#  schema and maps tables to Python classes.\n",
    "\n",
    "# How it works:\n",
    "# Explanation:\n",
    "# Connects to the database using the engine.\n",
    "# Reads the database schema (table names, columns, relationships)\n",
    "# Automatically creates ORM classes for each table.\n",
    "# Stores them in Base.classes, allowing you to access the tables as Python classes.\n",
    "\n",
    "\n"
   ]
  },
  {
   "cell_type": "code",
   "execution_count": 6,
   "metadata": {},
   "outputs": [
    {
     "name": "stdout",
     "output_type": "stream",
     "text": [
      "['measurement', 'station']\n"
     ]
    }
   ],
   "source": [
    "# View all of the classes that automap found\n",
    "print(Base.classes.keys())\n",
    "# Explanation:\n",
    "# This line of code prints the automatically mapped ORM class names from the database tables.\n",
    "\n",
    "# Base.classes:\n",
    "# Is a dictionary-like object where:\n",
    "# Keys are table names from the database.\n",
    "# Values are the automatically mapped ORM classes.\n",
    "\n",
    "# .keys():\n",
    "# Retrieves the list of all table names that SQLAlchemy detected and mapped."
   ]
  },
  {
   "cell_type": "code",
   "execution_count": 7,
   "metadata": {},
   "outputs": [
    {
     "name": "stdout",
     "output_type": "stream",
     "text": [
      "measurement\n",
      "station\n"
     ]
    }
   ],
   "source": [
    "# Save references to each table\n",
    "measurements = Base.classes.get(\"measurement\") \n",
    "# Explanation:\n",
    "# Understanding Base:\n",
    "#  Base is typically an instance of SQLAlchemy's declarative base.\n",
    "#  However, in some ORM setups, Base might be dynamically created when reflecting an existing \n",
    "#  database using automap_base():\n",
    "#  In such cases, Base dynamically loads table classes from the database.\n",
    "\n",
    "# Understanding Base.classes\n",
    "# Base.classes is a dictionary-like object that stores ORM-mapped table classes.\n",
    "# These classes represent tables in the database and are usually available by their table names.\n",
    "\n",
    "# Understanding .get(\"measurement\"):\n",
    "# The .get(\"measurement\") part is trying to retrieve a table class named \"measurement\".\n",
    "# The comment suggests trying lowercase, which implies that table names might be case-sensitive.\n",
    "# n some databases, table names are stored in lowercase by default, so if \"Measurement\" or \"MEASUREMENT\" \n",
    "# doesn't work, \"measurement\" might be the correct key.\n",
    "\n",
    "# What This Line Does:\n",
    "# It retrieves the ORM-mapped class for the \"measurement\" table.\n",
    "# If the table exists, measurements will be set to the corresponding SQLAlchemy class.\n",
    "# If the table doesn't exist or is named differently, measurements will be None.\n",
    "\n",
    "# Potential Issue:\n",
    "# If the table name is not exactly \"measurement\" (e.g., it's \"Measurement\" or \"MEASUREMENT\"), the .get() method will return None.\n",
    "# The comment suggests trying lowercase because table names in the database might be case-sensitive.\n",
    "\n",
    "stations = Base.classes.get(\"station\") \n",
    "\n",
    "# If tables are found, print structure\n",
    "if measurements and stations:\n",
    "# Explanation:\n",
    "#  Checking if Tables Were Found:\n",
    "#    This condition checks if both measurements and stations are not None.\n",
    "#    If either of them is None, it means the table was not found in Base.classes, and the program enters the else block.\n",
    "\n",
    "    print(measurements.__table__)\n",
    "    print(stations.__table__)\n",
    "# Explanation:\n",
    "# Printing Table Structures:\n",
    "#    If both table objects were found, this prints their SQLAlchemy table representations.\n",
    "#    __table__ is an attribute of a SQLAlchemy ORM class that gives access to the Table object.\n",
    "#    This will print the table schema, including column names and types.\n",
    "\n",
    "else:\n",
    "    print(\"Error: Could not find 'measurement' or 'station' tables!\")\n",
    "# Handling Missing Tables:\n",
    "#    If either measurements or stations is None, it prints an error message.\n",
    "#    This helps debug the issue—most likely a case sensitivity problem or missing tables."
   ]
  },
  {
   "cell_type": "code",
   "execution_count": 8,
   "metadata": {},
   "outputs": [],
   "source": [
    "# Create our session (link) from Python to the DB\n",
    "Session = Session(engine)\n",
    "# Explanation:\n",
    "# Understanding Each Component:\n",
    "#  Session: This is the SQLAlchemy ORM session object.\n",
    "#   Session is a class provided by SQLAlchemy to manage database interactions.\n",
    "#   It is typically created using sessionmaker, which configures a session factory.\n",
    "\n",
    "# Session(engine):\n",
    "#  This creates an instance of the session, linking it to the database via engine.\n",
    "#  The engine is the connection to the database, which was created earlier using SQLAlchemy.\n"
   ]
  },
  {
   "cell_type": "markdown",
   "metadata": {},
   "source": [
    "# Exploratory Precipitation Analysis"
   ]
  },
  {
   "cell_type": "code",
   "execution_count": null,
   "metadata": {},
   "outputs": [],
   "source": [
    "# Find the most recent date in the data set.\n"
   ]
  },
  {
   "cell_type": "code",
   "execution_count": null,
   "metadata": {},
   "outputs": [],
   "source": [
    "# Design a query to retrieve the last 12 months of precipitation data and plot the results. \n",
    "# Starting from the most recent data point in the database. \n",
    "\n",
    "# Calculate the date one year from the last date in data set.\n",
    "\n",
    "\n",
    "# Perform a query to retrieve the data and precipitation scores\n",
    "\n",
    "\n",
    "# Save the query results as a Pandas DataFrame. Explicitly set the column names\n",
    "\n",
    "\n",
    "# Sort the dataframe by date\n",
    "\n",
    "\n",
    "# Use Pandas Plotting with Matplotlib to plot the data\n"
   ]
  },
  {
   "cell_type": "code",
   "execution_count": null,
   "metadata": {},
   "outputs": [],
   "source": [
    "# Use Pandas to calculate the summary statistics for the precipitation data\n"
   ]
  },
  {
   "cell_type": "markdown",
   "metadata": {},
   "source": [
    "# Exploratory Station Analysis"
   ]
  },
  {
   "cell_type": "code",
   "execution_count": null,
   "metadata": {},
   "outputs": [],
   "source": [
    "# Design a query to calculate the total number of stations in the dataset\n"
   ]
  },
  {
   "cell_type": "code",
   "execution_count": null,
   "metadata": {},
   "outputs": [],
   "source": [
    "# Design a query to find the most active stations (i.e. which stations have the most rows?)\n",
    "# List the stations and their counts in descending order.\n"
   ]
  },
  {
   "cell_type": "code",
   "execution_count": null,
   "metadata": {},
   "outputs": [],
   "source": [
    "# Using the most active station id from the previous query, calculate the lowest, highest, and average temperature.\n"
   ]
  },
  {
   "cell_type": "code",
   "execution_count": null,
   "metadata": {},
   "outputs": [],
   "source": [
    "# Using the most active station id\n",
    "# Query the last 12 months of temperature observation data for this station and plot the results as a histogram\n"
   ]
  },
  {
   "cell_type": "markdown",
   "metadata": {},
   "source": [
    "# Close Session"
   ]
  },
  {
   "cell_type": "code",
   "execution_count": 16,
   "metadata": {},
   "outputs": [
    {
     "ename": "NameError",
     "evalue": "name 'session' is not defined",
     "output_type": "error",
     "traceback": [
      "\u001b[0;31m---------------------------------------------------------------------------\u001b[0m",
      "\u001b[0;31mNameError\u001b[0m                                 Traceback (most recent call last)",
      "Cell \u001b[0;32mIn[16], line 2\u001b[0m\n\u001b[1;32m      1\u001b[0m \u001b[38;5;66;03m# Close Session\u001b[39;00m\n\u001b[0;32m----> 2\u001b[0m \u001b[43msession\u001b[49m\u001b[38;5;241m.\u001b[39mclose()\n",
      "\u001b[0;31mNameError\u001b[0m: name 'session' is not defined"
     ]
    }
   ],
   "source": [
    "# Close Session\n",
    "session.close()"
   ]
  },
  {
   "cell_type": "code",
   "execution_count": null,
   "metadata": {},
   "outputs": [],
   "source": []
  }
 ],
 "metadata": {
  "anaconda-cloud": {},
  "kernel_info": {
   "name": "python3"
  },
  "kernelspec": {
   "display_name": "dev",
   "language": "python",
   "name": "python3"
  },
  "language_info": {
   "codemirror_mode": {
    "name": "ipython",
    "version": 3
   },
   "file_extension": ".py",
   "mimetype": "text/x-python",
   "name": "python",
   "nbconvert_exporter": "python",
   "pygments_lexer": "ipython3",
   "version": "3.10.16"
  },
  "nteract": {
   "version": "0.12.3"
  },
  "varInspector": {
   "cols": {
    "lenName": 16,
    "lenType": 16,
    "lenVar": 40
   },
   "kernels_config": {
    "python": {
     "delete_cmd_postfix": "",
     "delete_cmd_prefix": "del ",
     "library": "var_list.py",
     "varRefreshCmd": "print(var_dic_list())"
    },
    "r": {
     "delete_cmd_postfix": ") ",
     "delete_cmd_prefix": "rm(",
     "library": "var_list.r",
     "varRefreshCmd": "cat(var_dic_list()) "
    }
   },
   "types_to_exclude": [
    "module",
    "function",
    "builtin_function_or_method",
    "instance",
    "_Feature"
   ],
   "window_display": false
  }
 },
 "nbformat": 4,
 "nbformat_minor": 2
}
